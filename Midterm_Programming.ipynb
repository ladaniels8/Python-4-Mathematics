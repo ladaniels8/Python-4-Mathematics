{
  "nbformat": 4,
  "nbformat_minor": 0,
  "metadata": {
    "colab": {
      "name": "Midterm_Programming.ipynb",
      "provenance": [],
      "collapsed_sections": [],
      "include_colab_link": true
    },
    "kernelspec": {
      "name": "python3",
      "display_name": "Python 3"
    },
    "language_info": {
      "name": "python"
    }
  },
  "cells": [
    {
      "cell_type": "markdown",
      "metadata": {
        "id": "view-in-github",
        "colab_type": "text"
      },
      "source": [
        "<a href=\"https://colab.research.google.com/github/ladaniels8/Python-4-Mathematics/blob/main/Midterm_Programming.ipynb\" target=\"_parent\"><img src=\"https://colab.research.google.com/assets/colab-badge.svg\" alt=\"Open In Colab\"/></a>"
      ]
    },
    {
      "cell_type": "markdown",
      "source": [
        "#Midterm Exam - Math 152 - Programming part\n",
        "\n",
        "Upload an .ipynb file to canvas"
      ],
      "metadata": {
        "id": "DksSzu8V2Oco"
      }
    },
    {
      "cell_type": "markdown",
      "source": [
        "# Four divisors\n",
        "Create a function ``` four_divisors(n) ``` that ```returns``` the ```list``` of numbers less than $n$ wich divisors are only $1, p, q, n$ with $p\\neq q$ primes. For example:\n",
        "\n",
        "```four_divisors(25) = [6, 10, 14, 15, 21, 22]```\n",
        "\n",
        "Hint: look at the multiplication of different primes, you can use ```where(L)``` and ```isprime_list(n)```\n",
        "\n",
        "> Input : positive integer\n",
        "\n",
        "> Output: list\n",
        "\n"
      ],
      "metadata": {
        "id": "ezSUQqgO9qX-"
      }
    },
    {
      "cell_type": "code",
      "source": [
        "#Your answer goes here\n",
        "\n",
        "def four_divisors(n):\n",
        "\n",
        "  n = 1\n",
        "  x = 1\n",
        "\n",
        "  for x in list():\n",
        "    if x % p == 0:\n",
        "      return True \n",
        "    if x % q == 0:\n",
        "      return True \n",
        "    if x % n == 0:\n",
        "      return True\n",
        "\n",
        "def where(L):\n",
        "    '''\n",
        "    Take a list of booleans as input and\n",
        "    outputs the list of indices where True occurs.\n",
        "    '''\n",
        "    return [n for n in range(len(L)) if L[n]]\n",
        "\n",
        "  "
      ],
      "metadata": {
        "id": "fEmoCVqTVY6f"
      },
      "execution_count": 59,
      "outputs": []
    },
    {
      "cell_type": "code",
      "source": [
        "four_divisors(25)"
      ],
      "metadata": {
        "id": "Ls6TfT97wyy0"
      },
      "execution_count": 53,
      "outputs": []
    },
    {
      "cell_type": "code",
      "source": [
        "from math import sqrt\n",
        "def isprime_list(n):\n",
        "    ''' \n",
        "    Return a list of length n+1\n",
        "    with Trues at prime indices and Falses at composite indices.\n",
        "    '''\n",
        "    flags = [True] * (n+1)  # A list [True, True, True,...] to start.\n",
        "    flags[0] = False  # Zero is not prime.  So its flag is set to False.\n",
        "    flags[1] = False  # One is not prime.  So its flag is set to False.\n",
        "    flags[4::2] = [False] * ((n-2)//2)\n",
        "    p = 3\n",
        "    while p <= sqrt(n):  # We only need to sieve by p is p <= sqrt(n).\n",
        "        if flags[p]:  # We sieve the multiples of p if flags[p]=True.\n",
        "            flags[p*p::2*p] = [False] * ((n-p*p)//(2*p)+1) # Sieves out multiples of p, starting at p*p.\n",
        "        p = p + 2 # Try the next value of p.\n",
        "        \n",
        "    return flags\n",
        "    \n",
        "def where(L):\n",
        "    '''\n",
        "    Take a list of booleans as input and\n",
        "    outputs the list of indices where True occurs.\n",
        "    '''\n",
        "    return [n for n in range(len(L)) if L[n]]"
      ],
      "metadata": {
        "id": "Qxs3rYzoS7UM"
      },
      "execution_count": 27,
      "outputs": []
    },
    {
      "cell_type": "code",
      "source": [
        "isprime_list(12)"
      ],
      "metadata": {
        "colab": {
          "base_uri": "https://localhost:8080/"
        },
        "id": "Xm1SBM4EwZvI",
        "outputId": "8ca64c3c-49e1-4352-ba5c-213173b97504"
      },
      "execution_count": 32,
      "outputs": [
        {
          "output_type": "execute_result",
          "data": {
            "text/plain": [
              "[False,\n",
              " False,\n",
              " True,\n",
              " True,\n",
              " False,\n",
              " True,\n",
              " False,\n",
              " True,\n",
              " False,\n",
              " False,\n",
              " False,\n",
              " True,\n",
              " False]"
            ]
          },
          "metadata": {},
          "execution_count": 32
        }
      ]
    },
    {
      "cell_type": "markdown",
      "source": [
        "# Taylor Series \n",
        "Using Taylor series, define a function ```exp_plus_atan(x)``` that approximates \n",
        "\n",
        "$$e^{x} + \\arctan(x) $$\n",
        "\n",
        "for $x\\in (-1,1)$ with a precision of 5 digits.\n",
        "\n",
        "Remember that \n",
        "\n",
        "$$\\arctan(x) = x - \\frac{x^3}{3} + \\frac{x^5}{5} - \\cdots$$\n",
        "\n",
        "> Input : float in (-1,1)\n",
        "\n",
        "> Output: float\n"
      ],
      "metadata": {
        "id": "uVvEE0YKARyU"
      }
    },
    {
      "cell_type": "code",
      "source": [
        "#Your answer goes here\n",
        "\n",
        "def exp_plus_atan(x):\n",
        "  for x in range(-1,1):\n",
        "    n = 1\n",
        "    answer = x - x**n+2//(n+2)\n",
        "    return answer\n",
        "    print('{:05f}'.format(x))"
      ],
      "metadata": {
        "id": "J71lp-NcUcl_"
      },
      "execution_count": 25,
      "outputs": []
    }
  ]
}